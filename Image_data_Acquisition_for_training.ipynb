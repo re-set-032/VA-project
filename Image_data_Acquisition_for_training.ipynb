{
  "nbformat": 4,
  "nbformat_minor": 0,
  "metadata": {
    "colab": {
      "name": "Image data Acquisition for training",
      "provenance": [],
      "collapsed_sections": []
    },
    "kernelspec": {
      "name": "python3",
      "display_name": "Python 3"
    },
    "language_info": {
      "name": "python"
    }
  },
  "cells": [
    {
      "cell_type": "markdown",
      "metadata": {
        "id": "QWUCU2Jrz4Gg"
      },
      "source": [
        "# Import cocoDataset API for downloading coco images\n"
      ]
    },
    {
      "cell_type": "code",
      "metadata": {
        "id": "typNSgZoxmmr",
        "colab": {
          "base_uri": "https://localhost:8080/"
        },
        "outputId": "0cdbec67-82ca-4405-b51d-85e0a34e37b9"
      },
      "source": [
        "!pip install CocoDataset==0.1.2"
      ],
      "execution_count": 1,
      "outputs": [
        {
          "output_type": "stream",
          "name": "stdout",
          "text": [
            "Collecting CocoDataset==0.1.2\n",
            "  Downloading CocoDataset-0.1.2-py3-none-any.whl (4.2 kB)\n",
            "Requirement already satisfied: pycocotools in /usr/local/lib/python3.7/dist-packages (from CocoDataset==0.1.2) (2.0.2)\n",
            "Requirement already satisfied: setuptools>=18.0 in /usr/local/lib/python3.7/dist-packages (from pycocotools->CocoDataset==0.1.2) (57.4.0)\n",
            "Requirement already satisfied: matplotlib>=2.1.0 in /usr/local/lib/python3.7/dist-packages (from pycocotools->CocoDataset==0.1.2) (3.2.2)\n",
            "Requirement already satisfied: cython>=0.27.3 in /usr/local/lib/python3.7/dist-packages (from pycocotools->CocoDataset==0.1.2) (0.29.24)\n",
            "Requirement already satisfied: pyparsing!=2.0.4,!=2.1.2,!=2.1.6,>=2.0.1 in /usr/local/lib/python3.7/dist-packages (from matplotlib>=2.1.0->pycocotools->CocoDataset==0.1.2) (3.0.6)\n",
            "Requirement already satisfied: cycler>=0.10 in /usr/local/lib/python3.7/dist-packages (from matplotlib>=2.1.0->pycocotools->CocoDataset==0.1.2) (0.11.0)\n",
            "Requirement already satisfied: python-dateutil>=2.1 in /usr/local/lib/python3.7/dist-packages (from matplotlib>=2.1.0->pycocotools->CocoDataset==0.1.2) (2.8.2)\n",
            "Requirement already satisfied: kiwisolver>=1.0.1 in /usr/local/lib/python3.7/dist-packages (from matplotlib>=2.1.0->pycocotools->CocoDataset==0.1.2) (1.3.2)\n",
            "Requirement already satisfied: numpy>=1.11 in /usr/local/lib/python3.7/dist-packages (from matplotlib>=2.1.0->pycocotools->CocoDataset==0.1.2) (1.19.5)\n",
            "Requirement already satisfied: six>=1.5 in /usr/local/lib/python3.7/dist-packages (from python-dateutil>=2.1->matplotlib>=2.1.0->pycocotools->CocoDataset==0.1.2) (1.15.0)\n",
            "Installing collected packages: CocoDataset\n",
            "Successfully installed CocoDataset-0.1.2\n"
          ]
        }
      ]
    },
    {
      "cell_type": "markdown",
      "metadata": {
        "id": "evGum7zu11xC"
      },
      "source": [
        "#Download Annotations for all coco dataset class images "
      ]
    },
    {
      "cell_type": "code",
      "metadata": {
        "id": "9ILzwujhyDmX",
        "colab": {
          "base_uri": "https://localhost:8080/"
        },
        "outputId": "e2cd6537-19d0-49d1-8b55-39d0fabab57a"
      },
      "source": [
        "!wget http://images.cocodataset.org/annotations/annotations_trainval2014.zip\n",
        "!unzip /content/annotations_trainval2014.zip"
      ],
      "execution_count": 2,
      "outputs": [
        {
          "output_type": "stream",
          "name": "stdout",
          "text": [
            "--2021-11-23 12:00:40--  http://images.cocodataset.org/annotations/annotations_trainval2014.zip\n",
            "Resolving images.cocodataset.org (images.cocodataset.org)... 52.217.79.180\n",
            "Connecting to images.cocodataset.org (images.cocodataset.org)|52.217.79.180|:80... connected.\n",
            "HTTP request sent, awaiting response... 200 OK\n",
            "Length: 252872794 (241M) [application/zip]\n",
            "Saving to: ‘annotations_trainval2014.zip’\n",
            "\n",
            "annotations_trainva 100%[===================>] 241.16M  77.3MB/s    in 3.1s    \n",
            "\n",
            "2021-11-23 12:00:43 (77.3 MB/s) - ‘annotations_trainval2014.zip’ saved [252872794/252872794]\n",
            "\n",
            "Archive:  /content/annotations_trainval2014.zip\n",
            "  inflating: annotations/instances_train2014.json  \n",
            "  inflating: annotations/instances_val2014.json  \n",
            "  inflating: annotations/person_keypoints_train2014.json  \n",
            "  inflating: annotations/person_keypoints_val2014.json  \n",
            "  inflating: annotations/captions_train2014.json  \n",
            "  inflating: annotations/captions_val2014.json  \n"
          ]
        }
      ]
    },
    {
      "cell_type": "markdown",
      "metadata": {
        "id": "kBeRG1wRzT2N"
      },
      "source": [
        "#Downloading specific class label images from coco dataset for custom training"
      ]
    },
    {
      "cell_type": "markdown",
      "metadata": {
        "id": "Zic8hpy6mNgB"
      },
      "source": [
        ""
      ]
    },
    {
      "cell_type": "markdown",
      "metadata": {
        "id": "lDBC-lK06Tir"
      },
      "source": [
        "Available Class images\n",
        "1: 'person',\n",
        "2: 'bicycle',\n",
        "3: 'car',\n",
        "4: 'motorcycle',\n",
        "5: 'airplane',\n",
        "6: 'bs',\n",
        "7: 'train',\n",
        "8: 'trck',\n",
        "9: 'boat',\n",
        "10: 'traffic light',\n",
        "11: 'fire hydrant',\n",
        "12: 'stop sign',\n",
        "13: 'parking meter',\n",
        "14: 'bench',\n",
        "15: 'bird',\n",
        "16: 'cat',\n",
        "17: 'dog',\n",
        "18: 'horse',\n",
        "19: 'sheep',\n",
        "20: 'cow',\n",
        "21: 'elephant',\n",
        "22: 'bear',\n",
        "23: 'zebra',\n",
        "24: 'giraffe',\n",
        "25: 'backpack',\n",
        "26: 'mbrella',\n",
        "27: 'handbag',\n",
        "28: 'tie',\n",
        "29: 'sitcase',\n",
        "30: 'frisbee',\n",
        "31: 'skis',\n",
        "32: 'snowboard',\n",
        "33: 'sports ball',\n",
        "34: 'kite',\n",
        "35: 'baseball bat',\n",
        "36: 'baseball glove',\n",
        "37: 'skateboard',\n",
        "38: 'srfboard',\n",
        "39: 'tennis racket',\n",
        "40: 'bottle',\n",
        "41: 'wine glass',\n",
        "42: 'cp',\n",
        "43: 'fork',\n",
        "44: 'knife',\n",
        "45: 'spoon',\n",
        "46: 'bowl',\n",
        "47: 'banana',\n",
        "48: 'apple',\n",
        "49: 'sandwich',\n",
        "50: 'orange',\n",
        "51: 'broccoli',\n",
        "52: 'carrot',\n",
        "53: 'hot dog',\n",
        "54: 'pizza',\n",
        "55: 'dont',\n",
        "56: 'cake',\n",
        "57: 'chair',\n",
        "58: 'coch',\n",
        "59: 'potted plant',\n",
        "60: 'bed',\n",
        "61: 'dining table',\n",
        "62: 'toilet',\n",
        "63: 'tv',\n",
        "64: 'laptop',\n",
        "65: 'mose',\n",
        "66: 'remote',\n",
        "67: 'keyboard',\n",
        "68: 'cell phone',\n",
        "69: 'microwave',\n",
        "70: 'oven',\n",
        "71: 'toaster',\n",
        "72: 'sink',\n",
        "73: 'refrigerator',\n",
        "74: 'book',\n",
        "75: 'clock',\n",
        "76: 'vase',\n",
        "77: 'scissors',\n",
        "78: 'teddy bear',\n",
        "79: 'hair drier',\n",
        "80: 'toothbrsh'"
      ]
    },
    {
      "cell_type": "markdown",
      "metadata": {
        "id": "4jHsU3skBwFV"
      },
      "source": [
        "# Person class images"
      ]
    },
    {
      "cell_type": "code",
      "metadata": {
        "id": "2o3XJYx-xsx-"
      },
      "source": [
        "from coco_dataset import coco_dataset_download as cocod\n",
        "\n",
        "# class name images to download\n",
        "class_name='person' \n",
        "# count of images  \n",
        "images_count=500\n",
        "# path of coco dataset annotations \n",
        "annotations_path='/content/annotations/instances_train2014.json' \n",
        "# initiate collecting images of the specified class label\n",
        "cocod.coco_dataset_download(class_name,images_count,annotations_path)"
      ],
      "execution_count": null,
      "outputs": []
    },
    {
      "cell_type": "code",
      "metadata": {
        "id": "i3BHjDwH4ewd"
      },
      "source": [
        "# Zip all images to download\n",
        "!zip -r Person.zip person/ "
      ],
      "execution_count": null,
      "outputs": []
    },
    {
      "cell_type": "markdown",
      "metadata": {
        "id": "iGEC5LbmB301"
      },
      "source": [
        "# Bus class images"
      ]
    },
    {
      "cell_type": "code",
      "metadata": {
        "id": "xK67IKJxB3FS"
      },
      "source": [
        "from coco_dataset import coco_dataset_download as cocod\n",
        "\n",
        "# class name images to download\n",
        "class_name='bus' \n",
        "# count of images  \n",
        "images_count=500   \n",
        "# path of coco dataset annotations \n",
        "annotations_path='/content/annotations/instances_train2014.json' \n",
        "# initiate collecting images of the specified class label\n",
        "cocod.coco_dataset_download(class_name,images_count,annotations_path)"
      ],
      "execution_count": null,
      "outputs": []
    },
    {
      "cell_type": "code",
      "metadata": {
        "id": "d-YC_R-S6weP"
      },
      "source": [
        "# Zip all images to download\n",
        "!zip -r Bus.zip bus/ "
      ],
      "execution_count": null,
      "outputs": []
    },
    {
      "cell_type": "markdown",
      "metadata": {
        "id": "eReZalRa6_3t"
      },
      "source": [
        "# Car class images"
      ]
    },
    {
      "cell_type": "code",
      "metadata": {
        "id": "7Yh9nwIW61gW"
      },
      "source": [
        "from coco_dataset import coco_dataset_download as cocod\n",
        "\n",
        "# class name images to download\n",
        "class_name='car' \n",
        "# count of images  \n",
        "images_count=500\n",
        "# path of coco dataset annotations \n",
        "annotations_path='/content/annotations/instances_train2014.json' \n",
        "# initiate collecting images of the specified class label\n",
        "cocod.coco_dataset_download(class_name,images_count,annotations_path)"
      ],
      "execution_count": null,
      "outputs": []
    },
    {
      "cell_type": "code",
      "metadata": {
        "id": "jD-dO_4G629R"
      },
      "source": [
        "# Zip all images to download\n",
        "!zip -r Car.zip car/ "
      ],
      "execution_count": null,
      "outputs": []
    },
    {
      "cell_type": "markdown",
      "metadata": {
        "id": "aWug5fyd7ReH"
      },
      "source": [
        "# Bicycle class images"
      ]
    },
    {
      "cell_type": "code",
      "metadata": {
        "id": "8xao8vDJ63K2"
      },
      "source": [
        "from coco_dataset import coco_dataset_download as cocod\n",
        "\n",
        "# class name images to download\n",
        "class_name='bicycle' \n",
        "# count of images  \n",
        "images_count=500 \n",
        "# path of coco dataset annotations \n",
        "annotations_path='/content/annotations/instances_train2014.json' \n",
        "# initiate collecting images of the specified class label\n",
        "cocod.coco_dataset_download(class_name,images_count,annotations_path)"
      ],
      "execution_count": null,
      "outputs": []
    },
    {
      "cell_type": "code",
      "metadata": {
        "id": "QJOmhfAo63TQ"
      },
      "source": [
        "# Zip all images to download\n",
        "!zip -r Bicycle.zip bicycle/ "
      ],
      "execution_count": null,
      "outputs": []
    },
    {
      "cell_type": "markdown",
      "metadata": {
        "id": "JGjx6kPW7glv"
      },
      "source": [
        "# TrafficLight class images"
      ]
    },
    {
      "cell_type": "code",
      "metadata": {
        "id": "4XFzInup68bL"
      },
      "source": [
        "from coco_dataset import coco_dataset_download as cocod\n",
        "\n",
        "# class name images to download\n",
        "class_name='traffic light' \n",
        "# count of images  \n",
        "images_count=500\n",
        "# path of coco dataset annotations \n",
        "annotations_path='/content/annotations/instances_train2014.json' \n",
        "# initiate collecting images of the specified class label\n",
        "cocod.coco_dataset_download(class_name,images_count,annotations_path)"
      ],
      "execution_count": null,
      "outputs": []
    },
    {
      "cell_type": "code",
      "metadata": {
        "id": "RMAN_IKC69BM"
      },
      "source": [
        "# Zip all images to download\n",
        "!zip -r TrafficLights.zip traffic\\ light/ "
      ],
      "execution_count": null,
      "outputs": []
    },
    {
      "cell_type": "code",
      "metadata": {
        "id": "Mj_ioWDVH6mA"
      },
      "source": [
        ""
      ],
      "execution_count": null,
      "outputs": []
    },
    {
      "cell_type": "markdown",
      "metadata": {
        "id": "d83TOhXOCE3l"
      },
      "source": [
        "# Data collection for training is done"
      ]
    }
  ]
}